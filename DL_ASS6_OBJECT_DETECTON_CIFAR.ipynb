{
 "cells": [
  {
   "cell_type": "code",
   "execution_count": 1,
   "id": "31c2e651-8075-41a1-b996-30bca14f1627",
   "metadata": {},
   "outputs": [
    {
     "name": "stderr",
     "output_type": "stream",
     "text": [
      "D:\\Anaconda documentation\\lib\\site-packages\\scipy\\__init__.py:146: UserWarning: A NumPy version >=1.16.5 and <1.23.0 is required for this version of SciPy (detected version 1.26.3\n",
      "  warnings.warn(f\"A NumPy version >={np_minversion} and <{np_maxversion}\"\n"
     ]
    },
    {
     "name": "stdout",
     "output_type": "stream",
     "text": [
      "WARNING:tensorflow:From D:\\Anaconda documentation\\lib\\site-packages\\keras\\src\\losses.py:2976: The name tf.losses.sparse_softmax_cross_entropy is deprecated. Please use tf.compat.v1.losses.sparse_softmax_cross_entropy instead.\n",
      "\n"
     ]
    }
   ],
   "source": [
    "import tensorflow as tf\n",
    "from tensorflow import keras\n",
    "from tensorflow.keras.applications import VGG16\n",
    "from tensorflow.keras.models import Model\n",
    "from tensorflow.keras.layers import Dense, Flatten\n",
    "from tensorflow.keras.optimizers import Adam\n",
    "from tensorflow.keras.preprocessing.image import ImageDataGenerator\n",
    "import numpy as np"
   ]
  },
  {
   "cell_type": "markdown",
   "id": "203d03af-e7eb-406f-b9dc-9dad72072a3f",
   "metadata": {},
   "source": [
    "#### Pre processing img data "
   ]
  },
  {
   "cell_type": "code",
   "execution_count": 2,
   "id": "bae4a153-6f00-4265-add9-35904409dd72",
   "metadata": {},
   "outputs": [
    {
     "name": "stdout",
     "output_type": "stream",
     "text": [
      "Found 40079 images belonging to 10 classes.\n",
      "Found 9921 images belonging to 10 classes.\n"
     ]
    }
   ],
   "source": [
    "train_dir = \"D:\\PES MCOE\\semester 7\\DL\\DL LP 4 Datasets\\cifar-10-img/train\"\n",
    "test_dir = \"D:\\PES MCOE\\semester 7\\DL\\DL LP 4 Datasets\\cifar-10-img/test\"\n",
    "\n",
    "train_datagen = ImageDataGenerator(\n",
    "    rescale=1.0 / 255,\n",
    ")\n",
    "\n",
    "test_datagen = ImageDataGenerator(\n",
    "    rescale=1.0 / 255,\n",
    ")\n",
    "\n",
    "# here batch_size is the number of images in each batch\n",
    "train_batch_size = 5000\n",
    "train_generator = train_datagen.flow_from_directory(\n",
    "    train_dir,\n",
    "    target_size=(32, 32),\n",
    "    batch_size=train_batch_size,\n",
    "    class_mode='categorical'\n",
    ")\n",
    "test_batch_size = 1000\n",
    "test_generator = test_datagen.flow_from_directory(\n",
    "    test_dir,\n",
    "    target_size=(32, 32),\n",
    "    batch_size=test_batch_size,\n",
    "    class_mode='categorical'\n",
    ")"
   ]
  },
  {
   "cell_type": "markdown",
   "id": "4609c200-c5fc-4067-b3b3-bd8b7226e27d",
   "metadata": {},
   "source": [
    "#### Selecting only first batch with 5000 images as train and test data"
   ]
  },
  {
   "cell_type": "code",
   "execution_count": 3,
   "id": "b4369f09-67f5-4f91-a6f2-971ed179dea9",
   "metadata": {},
   "outputs": [
    {
     "name": "stdout",
     "output_type": "stream",
     "text": [
      "5000\n",
      "1000\n"
     ]
    }
   ],
   "source": [
    "x_train, y_train =  train_generator[0]\n",
    "x_test, y_test = test_generator[0]\n",
    "\n",
    "print(len(x_train))\n",
    "print(len(x_test))"
   ]
  },
  {
   "cell_type": "markdown",
   "id": "9db56097-894f-44a2-8b54-8241acd0dea9",
   "metadata": {},
   "source": [
    "#### a. Load in a pre-trained CNN model trained on a large dataset"
   ]
  },
  {
   "cell_type": "code",
   "execution_count": 5,
   "id": "3e80ede0-af89-4fd0-b431-191d5f6401d4",
   "metadata": {},
   "outputs": [
    {
     "name": "stdout",
     "output_type": "stream",
     "text": [
      "WARNING:tensorflow:From D:\\Anaconda documentation\\lib\\site-packages\\keras\\src\\backend.py:1398: The name tf.executing_eagerly_outside_functions is deprecated. Please use tf.compat.v1.executing_eagerly_outside_functions instead.\n",
      "\n",
      "WARNING:tensorflow:From D:\\Anaconda documentation\\lib\\site-packages\\keras\\src\\layers\\pooling\\max_pooling2d.py:161: The name tf.nn.max_pool is deprecated. Please use tf.nn.max_pool2d instead.\n",
      "\n"
     ]
    }
   ],
   "source": [
    "# Load VGG16 without top layers\n",
    "weights_path = \"vgg16_weights_tf_dim_ordering_tf_kernels_notop.h5\"\n",
    "base_model = VGG16(weights='imagenet', include_top=False, input_shape=(32, 32, 3))"
   ]
  },
  {
   "cell_type": "markdown",
   "id": "8dfc0b6a-99ae-4197-aae2-288d54241ce4",
   "metadata": {},
   "source": [
    "#### b. Freeze parameters (weights) in model’s lower convolutional layers"
   ]
  },
  {
   "cell_type": "code",
   "execution_count": 6,
   "id": "b64173b6-f973-416d-95a5-bfb158f9aa11",
   "metadata": {},
   "outputs": [],
   "source": [
    "for layer in base_model.layers:\n",
    "    layer.trainable = False"
   ]
  },
  {
   "cell_type": "markdown",
   "id": "324ff8f4-4cb4-451e-a72b-3f35ee41f600",
   "metadata": {},
   "source": [
    "#### c. Add custom classifier with several layers of trainable parameters to model"
   ]
  },
  {
   "cell_type": "code",
   "execution_count": 7,
   "id": "e44e9909-36b2-48cb-8470-1e6648a229a2",
   "metadata": {},
   "outputs": [
    {
     "name": "stdout",
     "output_type": "stream",
     "text": [
      "WARNING:tensorflow:From D:\\Anaconda documentation\\lib\\site-packages\\keras\\src\\optimizers\\__init__.py:309: The name tf.train.Optimizer is deprecated. Please use tf.compat.v1.train.Optimizer instead.\n",
      "\n"
     ]
    }
   ],
   "source": [
    "x = Flatten()(base_model.output)\n",
    "x = Dense(256, activation='relu')(x)\n",
    "x = tf.keras.layers.Dropout(0.3)(x)\n",
    "x = Dense(256, activation='relu')(x)\n",
    "x = tf.keras.layers.Dropout(0.3)(x)\n",
    "predictions = Dense(10, activation='softmax')(x)\n",
    "\n",
    "# Create the model\n",
    "model = Model(inputs=base_model.input, outputs=predictions)\n",
    "# Compile the model\n",
    "model.compile(optimizer=\"adam\", loss='categorical_crossentropy', metrics=['accuracy'])"
   ]
  },
  {
   "cell_type": "markdown",
   "id": "af0aac27-8b92-4f9d-a43a-af5633d440b8",
   "metadata": {},
   "source": [
    "#### d. Train classifier layers on training data available for task"
   ]
  },
  {
   "cell_type": "code",
   "execution_count": 8,
   "id": "3ce936f9-8497-4be8-877b-63d8f7c27885",
   "metadata": {},
   "outputs": [
    {
     "name": "stdout",
     "output_type": "stream",
     "text": [
      "Epoch 1/10\n",
      "WARNING:tensorflow:From D:\\Anaconda documentation\\lib\\site-packages\\keras\\src\\utils\\tf_utils.py:492: The name tf.ragged.RaggedTensorValue is deprecated. Please use tf.compat.v1.ragged.RaggedTensorValue instead.\n",
      "\n",
      "WARNING:tensorflow:From D:\\Anaconda documentation\\lib\\site-packages\\keras\\src\\engine\\base_layer_utils.py:384: The name tf.executing_eagerly_outside_functions is deprecated. Please use tf.compat.v1.executing_eagerly_outside_functions instead.\n",
      "\n",
      "79/79 [==============================] - 19s 223ms/step - loss: 1.9762 - accuracy: 0.2792 - val_loss: 1.6297 - val_accuracy: 0.4350\n",
      "Epoch 2/10\n",
      "79/79 [==============================] - 21s 269ms/step - loss: 1.5907 - accuracy: 0.4412 - val_loss: 1.4623 - val_accuracy: 0.4850\n",
      "Epoch 3/10\n",
      "79/79 [==============================] - 21s 270ms/step - loss: 1.4284 - accuracy: 0.4958 - val_loss: 1.4296 - val_accuracy: 0.5020\n",
      "Epoch 4/10\n",
      "79/79 [==============================] - 22s 273ms/step - loss: 1.3430 - accuracy: 0.5324 - val_loss: 1.3871 - val_accuracy: 0.5210\n",
      "Epoch 5/10\n",
      "79/79 [==============================] - 23s 286ms/step - loss: 1.2725 - accuracy: 0.5470 - val_loss: 1.3934 - val_accuracy: 0.5080\n",
      "Epoch 6/10\n",
      "79/79 [==============================] - 25s 314ms/step - loss: 1.2334 - accuracy: 0.5734 - val_loss: 1.3348 - val_accuracy: 0.5430\n",
      "Epoch 7/10\n",
      "79/79 [==============================] - 23s 296ms/step - loss: 1.1589 - accuracy: 0.5934 - val_loss: 1.3389 - val_accuracy: 0.5400\n",
      "Epoch 8/10\n",
      "79/79 [==============================] - 23s 289ms/step - loss: 1.1189 - accuracy: 0.6030 - val_loss: 1.3151 - val_accuracy: 0.5380\n",
      "Epoch 9/10\n",
      "79/79 [==============================] - 24s 300ms/step - loss: 1.0645 - accuracy: 0.6220 - val_loss: 1.3087 - val_accuracy: 0.5520\n",
      "Epoch 10/10\n",
      "79/79 [==============================] - 22s 275ms/step - loss: 1.0447 - accuracy: 0.6336 - val_loss: 1.3114 - val_accuracy: 0.5490\n"
     ]
    },
    {
     "data": {
      "text/plain": [
       "<keras.src.callbacks.History at 0x26098132d60>"
      ]
     },
     "execution_count": 8,
     "metadata": {},
     "output_type": "execute_result"
    }
   ],
   "source": [
    "# Train the model\n",
    "model.fit(x_train, y_train, batch_size=64, epochs=10, validation_data=(x_test, y_test))"
   ]
  },
  {
   "cell_type": "markdown",
   "id": "521fc40f-4c47-462f-8965-9026bdb98edb",
   "metadata": {},
   "source": [
    "#### e. Fine-tune hyper parameters and unfreeze more layers as needed"
   ]
  },
  {
   "cell_type": "code",
   "execution_count": null,
   "id": "c1d6efc6-3209-4586-8947-385a0120f861",
   "metadata": {},
   "outputs": [
    {
     "name": "stdout",
     "output_type": "stream",
     "text": [
      "Epoch 1/10\n",
      "79/79 [==============================] - 28s 339ms/step - loss: 2.2769 - accuracy: 0.1210 - val_loss: 2.3041 - val_accuracy: 0.0990\n",
      "Epoch 2/10\n",
      "79/79 [==============================] - 31s 388ms/step - loss: 2.3036 - accuracy: 0.1022 - val_loss: 2.3015 - val_accuracy: 0.1130\n",
      "Epoch 3/10\n",
      "79/79 [==============================] - 30s 377ms/step - loss: 2.3028 - accuracy: 0.1028 - val_loss: 2.3018 - val_accuracy: 0.1130\n",
      "Epoch 4/10\n",
      "79/79 [==============================] - 30s 382ms/step - loss: 2.3029 - accuracy: 0.1060 - val_loss: 2.3018 - val_accuracy: 0.1130\n",
      "Epoch 5/10\n",
      "79/79 [==============================] - 31s 390ms/step - loss: 2.3031 - accuracy: 0.1046 - val_loss: 2.3019 - val_accuracy: 0.1130\n",
      "Epoch 6/10\n",
      "79/79 [==============================] - 30s 385ms/step - loss: 2.3027 - accuracy: 0.1050 - val_loss: 2.3020 - val_accuracy: 0.1130\n",
      "Epoch 7/10\n",
      "79/79 [==============================] - 32s 406ms/step - loss: 2.3026 - accuracy: 0.1062 - val_loss: 2.3017 - val_accuracy: 0.1130\n",
      "Epoch 8/10\n",
      "79/79 [==============================] - 30s 375ms/step - loss: 2.3027 - accuracy: 0.1056 - val_loss: 2.3017 - val_accuracy: 0.1130\n",
      "Epoch 9/10\n",
      "19/79 [======>.......................] - ETA: 19s - loss: 2.3036 - accuracy: 0.1044"
     ]
    }
   ],
   "source": [
    "base_model = VGG16(weights='imagenet', include_top=False, input_shape=(32, 32, 3))\n",
    "\n",
    "# freeze all layers first\n",
    "for layer in base_model.layers:\n",
    "    layer.trainable = False\n",
    "\n",
    "# unfreeze last 4 layers of base model\n",
    "for layer in base_model.layers[len(base_model.layers) - 4:]:\n",
    "    layer.trainable = True\n",
    "\n",
    "# fine-tuning hyper parameters\n",
    "x = Flatten()(base_model.output)\n",
    "x = Dense(256, activation='relu')(x)\n",
    "x = tf.keras.layers.Dropout(0.3)(x)\n",
    "x = Dense(512, activation='relu')(x)\n",
    "x = tf.keras.layers.Dropout(0.3)(x)\n",
    "predictions = Dense(10, activation='softmax')(x)\n",
    "\n",
    "# Create the model\n",
    "model = Model(inputs=base_model.input, outputs=predictions)\n",
    "\n",
    "# Compile the model\n",
    "model.compile(optimizer=Adam(learning_rate=0.001), loss='categorical_crossentropy', metrics=['accuracy'])\n",
    "\n",
    "# training fine tuned model\n",
    "model.fit(x_train, y_train, batch_size=64, epochs=10, validation_data=(x_test, y_test))"
   ]
  },
  {
   "cell_type": "code",
   "execution_count": null,
   "id": "fc035871-ca9a-4c0e-9204-d999e14c53c8",
   "metadata": {},
   "outputs": [],
   "source": [
    "import matplotlib.pyplot as plt\n",
    "predicted_value = model.predict(x_test)"
   ]
  },
  {
   "cell_type": "code",
   "execution_count": null,
   "id": "3637d2e8-05ea-4e4d-a38b-b2c1ca6c76be",
   "metadata": {},
   "outputs": [],
   "source": [
    "labels = list(test_generator.class_indices.keys())"
   ]
  },
  {
   "cell_type": "code",
   "execution_count": null,
   "id": "6d4825f5-8e54-47a9-ab3b-57e55c9d11f4",
   "metadata": {},
   "outputs": [],
   "source": [
    "n = 890\n",
    "plt.imshow(x_test[n])\n",
    "print(\"Preditcted: \",labels[np.argmax(predicted_value[n])])\n",
    "print(\"Actual: \", labels[np.argmax(y_test[n])])"
   ]
  }
 ],
 "metadata": {
  "kernelspec": {
   "display_name": "Python 3 (ipykernel)",
   "language": "python",
   "name": "python3"
  },
  "language_info": {
   "codemirror_mode": {
    "name": "ipython",
    "version": 3
   },
   "file_extension": ".py",
   "mimetype": "text/x-python",
   "name": "python",
   "nbconvert_exporter": "python",
   "pygments_lexer": "ipython3",
   "version": "3.9.7"
  }
 },
 "nbformat": 4,
 "nbformat_minor": 5
}
