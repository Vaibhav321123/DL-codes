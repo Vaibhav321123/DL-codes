{
 "cells": [
  {
   "cell_type": "markdown",
   "id": "ac395f99",
   "metadata": {},
   "source": [
    "6. Object detection using Transfer Learning of CNN architectures \n",
    "\n",
    "\n",
    "a. Load in a pre-trained CNN model trained on a large dataset \n",
    "\n",
    "b. Freeze parameters (weights) in model’s lower convolutional layers \n",
    "\n",
    "c. Add custom classifier with several layers of trainable parameters to model \n",
    "\n",
    "d. Train classifier layers on training data available for task \n",
    "\n",
    "e. Fine-tune hyper parameters and unfreeze more layers as needed\n"
   ]
  },
  {
   "cell_type": "markdown",
   "id": "20ec1271",
   "metadata": {},
   "source": [
    "### Dataset : caltech"
   ]
  },
  {
   "cell_type": "code",
   "execution_count": 11,
   "id": "c4629a59",
   "metadata": {},
   "outputs": [],
   "source": [
    "import tensorflow as tf\n",
    "from tensorflow import keras\n",
    "from tensorflow.keras.applications import VGG16\n",
    "from tensorflow.keras.models import Model\n",
    "from tensorflow.keras.layers import Dense, Flatten\n",
    "from tensorflow.keras.optimizers import Adam\n",
    "from tensorflow.keras.preprocessing.image import ImageDataGenerator\n",
    "import numpy as np"
   ]
  },
  {
   "cell_type": "markdown",
   "id": "88127d81",
   "metadata": {},
   "source": [
    "Pre processing image data"
   ]
  },
  {
   "cell_type": "code",
   "execution_count": 12,
   "id": "36388f7c",
   "metadata": {},
   "outputs": [
    {
     "name": "stdout",
     "output_type": "stream",
     "text": [
      "Found 9144 images belonging to 102 classes.\n"
     ]
    }
   ],
   "source": [
    "dataset_dir = \"D:\\PES MCOE\\semester 7\\DL\\DL LP 4 Datasets\\caltech-101-img\"\n",
    "dataset_datagen = ImageDataGenerator(\n",
    "    rescale=1.0 / 255,\n",
    ")\n",
    "\n",
    "# here batch_size is the number of images in each batch\n",
    "batch_size = 2000\n",
    "dataset_generator = dataset_datagen.flow_from_directory(\n",
    "    dataset_dir,\n",
    "    target_size=(64, 64),\n",
    "    batch_size=batch_size,\n",
    "    class_mode='categorical'\n",
    ")"
   ]
  },
  {
   "cell_type": "code",
   "execution_count": 13,
   "id": "381f670f",
   "metadata": {},
   "outputs": [
    {
     "name": "stdout",
     "output_type": "stream",
     "text": [
      "2000\n",
      "2000\n"
     ]
    }
   ],
   "source": [
    "# Selecting first batch containing 2000 images as train and second batch containing 2000 images as test data\n",
    "\n",
    "x_train, y_train =  dataset_generator[0]\n",
    "x_test, y_test = dataset_generator[1]\n",
    "\n",
    "print(len(x_train))\n",
    "print(len(x_test))"
   ]
  },
  {
   "cell_type": "markdown",
   "id": "04a7e613",
   "metadata": {},
   "source": [
    "a. Load in a pre-trained CNN model trained on a large dataset"
   ]
  },
  {
   "cell_type": "code",
   "execution_count": 14,
   "id": "0edb90b4",
   "metadata": {},
   "outputs": [],
   "source": [
    "# Load VGG16 without top layers\n",
    "weights_path = \"vgg16_weights_tf_dim_ordering_tf_kernels_notop.h5\"\n",
    "base_model = VGG16(weights='imagenet', include_top=False, input_shape=(64, 64, 3))"
   ]
  },
  {
   "cell_type": "markdown",
   "id": "da07527c",
   "metadata": {},
   "source": [
    "b. Freeze parameters (weights) in model’s lower convolutional layers"
   ]
  },
  {
   "cell_type": "code",
   "execution_count": 15,
   "id": "582617ff",
   "metadata": {},
   "outputs": [],
   "source": [
    "for layer in base_model.layers:\n",
    "       layer.trainable = False"
   ]
  },
  {
   "cell_type": "markdown",
   "id": "4400c9f6",
   "metadata": {},
   "source": [
    "c. Add custom classifier with several layers of trainable parameters to model"
   ]
  },
  {
   "cell_type": "code",
   "execution_count": 16,
   "id": "2901df5c",
   "metadata": {},
   "outputs": [],
   "source": [
    "x = Flatten()(base_model.output)\n",
    "x = Dense(64, activation='relu')(x)\n",
    "predictions = Dense(102, activation='softmax')(x)\n",
    "\n",
    "# Create the model\n",
    "model = Model(inputs=base_model.input, outputs=predictions)\n",
    "# Compile the model\n",
    "model.compile(optimizer=\"adam\", loss='categorical_crossentropy', metrics=['accuracy'])"
   ]
  },
  {
   "cell_type": "markdown",
   "id": "7bce3197",
   "metadata": {},
   "source": [
    "d. Train classifier layers on training data available for task"
   ]
  },
  {
   "cell_type": "code",
   "execution_count": 17,
   "id": "8a83a72c",
   "metadata": {},
   "outputs": [
    {
     "name": "stdout",
     "output_type": "stream",
     "text": [
      "Epoch 1/10\n",
      "WARNING:tensorflow:From D:\\Anaconda documentation\\lib\\site-packages\\keras\\src\\utils\\tf_utils.py:492: The name tf.ragged.RaggedTensorValue is deprecated. Please use tf.compat.v1.ragged.RaggedTensorValue instead.\n",
      "\n",
      "WARNING:tensorflow:From D:\\Anaconda documentation\\lib\\site-packages\\keras\\src\\engine\\base_layer_utils.py:384: The name tf.executing_eagerly_outside_functions is deprecated. Please use tf.compat.v1.executing_eagerly_outside_functions instead.\n",
      "\n",
      "32/32 [==============================] - 50s 2s/step - loss: 3.9573 - accuracy: 0.2000 - val_loss: 3.3690 - val_accuracy: 0.3095\n",
      "Epoch 2/10\n",
      "32/32 [==============================] - 51s 2s/step - loss: 2.8874 - accuracy: 0.3895 - val_loss: 2.8863 - val_accuracy: 0.4005\n",
      "Epoch 3/10\n",
      "32/32 [==============================] - 51s 2s/step - loss: 2.3653 - accuracy: 0.4970 - val_loss: 2.6088 - val_accuracy: 0.4475\n",
      "Epoch 4/10\n",
      "32/32 [==============================] - 49s 2s/step - loss: 1.9724 - accuracy: 0.5665 - val_loss: 2.3928 - val_accuracy: 0.4795\n",
      "Epoch 5/10\n",
      "32/32 [==============================] - 49s 2s/step - loss: 1.6780 - accuracy: 0.6345 - val_loss: 2.2364 - val_accuracy: 0.5115\n",
      "Epoch 6/10\n",
      "32/32 [==============================] - 52s 2s/step - loss: 1.4530 - accuracy: 0.6790 - val_loss: 2.1632 - val_accuracy: 0.5205\n",
      "Epoch 7/10\n",
      "32/32 [==============================] - 52s 2s/step - loss: 1.2654 - accuracy: 0.7175 - val_loss: 2.0836 - val_accuracy: 0.5410\n",
      "Epoch 8/10\n",
      "32/32 [==============================] - 56s 2s/step - loss: 1.1206 - accuracy: 0.7510 - val_loss: 2.0284 - val_accuracy: 0.5430\n",
      "Epoch 9/10\n",
      "32/32 [==============================] - 57s 2s/step - loss: 0.9847 - accuracy: 0.7965 - val_loss: 1.9899 - val_accuracy: 0.5465\n",
      "Epoch 10/10\n",
      "32/32 [==============================] - 50s 2s/step - loss: 0.8713 - accuracy: 0.8190 - val_loss: 1.9764 - val_accuracy: 0.5535\n"
     ]
    },
    {
     "data": {
      "text/plain": [
       "<keras.src.callbacks.History at 0x18ba7813d60>"
      ]
     },
     "execution_count": 17,
     "metadata": {},
     "output_type": "execute_result"
    }
   ],
   "source": [
    "# Train the model\n",
    "model.fit(x_train, y_train, batch_size=64, epochs=10, validation_data=(x_test, y_test))"
   ]
  },
  {
   "cell_type": "markdown",
   "id": "3cbcf041",
   "metadata": {},
   "source": [
    "e. Fine-tune hyper parameters and unfreeze more layers as needed"
   ]
  },
  {
   "cell_type": "code",
   "execution_count": 19,
   "id": "eee0379d",
   "metadata": {},
   "outputs": [
    {
     "name": "stdout",
     "output_type": "stream",
     "text": [
      "Epoch 1/10\n",
      "32/32 [==============================] - 51s 2s/step - loss: 3.1233 - accuracy: 0.3475 - val_loss: 2.3931 - val_accuracy: 0.4920\n",
      "Epoch 2/10\n",
      "32/32 [==============================] - 50s 2s/step - loss: 1.8583 - accuracy: 0.5640 - val_loss: 1.9750 - val_accuracy: 0.5475\n",
      "Epoch 3/10\n",
      "32/32 [==============================] - 49s 2s/step - loss: 1.2155 - accuracy: 0.6910 - val_loss: 1.8570 - val_accuracy: 0.5710\n",
      "Epoch 4/10\n",
      "32/32 [==============================] - 49s 2s/step - loss: 0.7896 - accuracy: 0.7870 - val_loss: 1.8033 - val_accuracy: 0.5930\n",
      "Epoch 5/10\n",
      "32/32 [==============================] - 50s 2s/step - loss: 0.4868 - accuracy: 0.8610 - val_loss: 1.7547 - val_accuracy: 0.6135\n",
      "Epoch 6/10\n",
      "32/32 [==============================] - 50s 2s/step - loss: 0.3291 - accuracy: 0.9060 - val_loss: 1.8305 - val_accuracy: 0.6075\n",
      "Epoch 7/10\n",
      "32/32 [==============================] - 50s 2s/step - loss: 0.1967 - accuracy: 0.9430 - val_loss: 1.8431 - val_accuracy: 0.6265\n",
      "Epoch 8/10\n",
      "32/32 [==============================] - 50s 2s/step - loss: 0.1484 - accuracy: 0.9575 - val_loss: 1.8870 - val_accuracy: 0.6180\n",
      "Epoch 9/10\n",
      "32/32 [==============================] - 50s 2s/step - loss: 0.1141 - accuracy: 0.9670 - val_loss: 1.8784 - val_accuracy: 0.6330\n",
      "Epoch 10/10\n",
      "32/32 [==============================] - 50s 2s/step - loss: 0.0764 - accuracy: 0.9800 - val_loss: 1.8952 - val_accuracy: 0.6280\n"
     ]
    },
    {
     "data": {
      "text/plain": [
       "<keras.src.callbacks.History at 0x18ba904ae50>"
      ]
     },
     "execution_count": 19,
     "metadata": {},
     "output_type": "execute_result"
    }
   ],
   "source": [
    "base_model = VGG16(weights='imagenet', include_top=False, input_shape=(64, 64, 3))\n",
    "\n",
    "# freeze all layers first\n",
    "for layer in base_model.layers:\n",
    "    layer.trainable = False\n",
    "\n",
    "# unfreeze last 4 layers of base model\n",
    "for layer in base_model.layers[len(base_model.layers) - 2:]:\n",
    "    layer.trainable = True\n",
    "\n",
    "# fine-tuning hyper parameters\n",
    "x = Flatten()(base_model.output)\n",
    "x = Dense(512, activation='relu')(x)\n",
    "x = tf.keras.layers.Dropout(0.3)(x)\n",
    "predictions = Dense(102, activation='softmax')(x)\n",
    "\n",
    "# Create the model\n",
    "model = Model(inputs=base_model.input, outputs=predictions)\n",
    "\n",
    "# Compile the model\n",
    "model.compile(optimizer=Adam(learning_rate=0.001), loss='categorical_crossentropy', metrics=['accuracy'])\n",
    "\n",
    "# training fine tuned model\n",
    "model.fit(x_train, y_train, batch_size=64, epochs=10, validation_data=(x_test, y_test))"
   ]
  },
  {
   "cell_type": "code",
   "execution_count": 25,
   "id": "9ff30211",
   "metadata": {},
   "outputs": [
    {
     "name": "stdout",
     "output_type": "stream",
     "text": [
      "63/63 [==============================] - 21s 336ms/step\n"
     ]
    }
   ],
   "source": [
    "import matplotlib.pyplot as plt\n",
    "predicted_value = model.predict(x_test)"
   ]
  },
  {
   "cell_type": "code",
   "execution_count": 26,
   "id": "d406b6bf",
   "metadata": {},
   "outputs": [],
   "source": [
    "labels = list(dataset_generator.class_indices.keys())"
   ]
  },
  {
   "cell_type": "code",
   "execution_count": 27,
   "id": "e4266060",
   "metadata": {},
   "outputs": [
    {
     "name": "stdout",
     "output_type": "stream",
     "text": [
      "Preditcted:  crayfish\n",
      "Actual:  bass\n"
     ]
    },
    {
     "data": {
      "image/png": "[encoded data removed]",
      "text/plain": [
       "<Figure size 432x288 with 1 Axes>"
      ]
     },
     "metadata": {
      "needs_background": "light"
     },
     "output_type": "display_data"
    }
   ],
   "source": [
    "n = 20\n",
    "plt.imshow(x_test[n])\n",
    "print(\"Preditcted: \",labels[np.argmax(predicted_value[n])])\n",
    "print(\"Actual: \", labels[np.argmax(y_test[n])])"
   ]
  },
  {
   "cell_type": "code",
   "execution_count": null,
   "id": "f5423158",
   "metadata": {},
   "outputs": [],
   "source": []
  }
 ],
 "metadata": {
  "kernelspec": {
   "display_name": "Python 3 (ipykernel)",
   "language": "python",
   "name": "python3"
  },
  "language_info": {
   "codemirror_mode": {
    "name": "ipython",
    "version": 3
   },
   "file_extension": ".py",
   "mimetype": "text/x-python",
   "name": "python",
   "nbconvert_exporter": "python",
   "pygments_lexer": "ipython3",
   "version": "3.9.7"
  }
 },
 "nbformat": 4,
 "nbformat_minor": 5
}
